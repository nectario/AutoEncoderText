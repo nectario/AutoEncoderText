{
 "cells": [
  {
   "cell_type": "markdown",
   "metadata": {},
   "source": [
    "# Genre Prediction Model"
   ]
  },
  {
   "cell_type": "markdown",
   "metadata": {},
   "source": [
    "## Install Dependencies"
   ]
  },
  {
   "cell_type": "code",
   "execution_count": null,
   "metadata": {},
   "outputs": [],
   "source": [
    "dependencies_installed=False"
   ]
  },
  {
   "cell_type": "code",
   "execution_count": null,
   "metadata": {},
   "outputs": [],
   "source": [
    "if not dependencies_installed:\n",
    "    !python -m pip install -r requirements.txt\n",
    "    !python -m spacy download en\n",
    "    !python -m nltk.downloader all\n",
    "    !pip install --upgrade pip\n",
    "    !python -m spacy download en_core_web_sm\n",
    "    !pip install tensorflow --upgrade\n",
    "    \n",
    "    dependencies_installed = True"
   ]
  },
  {
   "cell_type": "code",
   "execution_count": null,
   "metadata": {},
   "outputs": [],
   "source": [
    "import os\n",
    "import tensorflow as tf\n",
    "os.environ[\"CUDA_VISIBLE_DEVICES\"]=\"1\"\n",
    "import warnings\n",
    "from keras_preprocessing.sequence import pad_sequences\n",
    "from os import listdir\n",
    "from os.path import isfile, join\n",
    "\n",
    "from common.MultiVectorizer import *\n",
    "from common.utils import *\n",
    "from tensorflow.keras.layers import Dense, Dropout, Input, SpatialDropout1D, TimeDistributed, Conv1D, MaxPooling1D, Concatenate, GlobalAveragePooling1D, \\\n",
    "    GlobalMaxPooling1D, Bidirectional, AdditiveAttention\n",
    "from tensorflow.keras.layers import Embedding\n",
    "from tensorflow.keras.layers import LSTM\n",
    "from tensorflow.keras.models import Model\n",
    "from tensorflow.keras.models import Sequential\n",
    "#from GenreAnalyzer import *\n",
    "from GenrePredictionModel import GenrePredictionModel\n",
    "from common.utils import *\n",
    "from sklearn.preprocessing import MultiLabelBinarizer\n",
    "from tensorflow.keras.callbacks import Callback\n",
    "import pandas as pd\n",
    "import tensorflow as tf\n",
    "from nltk.tokenize import sent_tokenize\n",
    "from operator import itemgetter\n",
    "from tensorflow.keras.models import Model\n",
    "from tensorflow.keras.callbacks import Callback\n",
    "from sklearn.preprocessing import MultiLabelBinarizer\n",
    "from tqdm.notebook import *\n",
    "from tensorflow.keras.metrics import *\n",
    "tqdm_notebook.pandas()\n"
   ]
  },
  {
   "cell_type": "markdown",
   "metadata": {},
   "source": [
    "## Check TensorFlow Version"
   ]
  },
  {
   "cell_type": "code",
   "execution_count": null,
   "metadata": {},
   "outputs": [],
   "source": [
    "tf.__version__"
   ]
  },
  {
   "cell_type": "markdown",
   "metadata": {},
   "source": [
    "## GPU Test"
   ]
  },
  {
   "cell_type": "code",
   "execution_count": null,
   "metadata": {},
   "outputs": [],
   "source": [
    "import tensorflow as tf \n",
    "\n",
    "if tf.test.gpu_device_name(): \n",
    "    print('Default GPU Device:',tf.test.gpu_device_name())\n",
    "else:\n",
    "    print(\"Please install GPU version of TF\")"
   ]
  },
  {
   "cell_type": "markdown",
   "metadata": {},
   "source": [
    "## Instantiate Word Vectorizer"
   ]
  },
  {
   "cell_type": "code",
   "execution_count": null,
   "metadata": {},
   "outputs": [],
   "source": [
    "vectorizer = MultiVectorizer() #MultiVectorizer(glove_path=\"data/glove/glove.42B.300d.txt\")"
   ]
  },
  {
   "cell_type": "markdown",
   "metadata": {},
   "source": [
    "## Instantiate GenrePredictionModel"
   ]
  },
  {
   "cell_type": "code",
   "execution_count": null,
   "metadata": {},
   "outputs": [],
   "source": [
    "genre_prediction_model = GenrePredictionModel(vectorizer=vectorizer)"
   ]
  },
  {
   "cell_type": "markdown",
   "metadata": {},
   "source": [
    "## Load Data"
   ]
  },
  {
   "cell_type": "code",
   "execution_count": null,
   "metadata": {},
   "outputs": [],
   "source": [
    "training_data_df, validation_data_df = genre_prediction_model.load_data(\"data/film_data_lots.xlsx\", rows=500, \n",
    "                                                                        validation_split=0.20)"
   ]
  },
  {
   "cell_type": "markdown",
   "metadata": {},
   "source": [
    "## Train"
   ]
  },
  {
   "cell_type": "code",
   "execution_count": null,
   "metadata": {},
   "outputs": [],
   "source": [
    "genre_prediction_model.fit(training_data_df, genre_prediction_model.training_labels, validation_data=validation_data_df, \n",
    "                           validation_labels = genre_prediction_model.validation_labels, epochs=1200, batch_size=200)"
   ]
  }
 ],
 "metadata": {
  "kernelspec": {
   "display_name": "conda_tensorflow_p36",
   "language": "python",
   "name": "conda_tensorflow_p36"
  },
  "language_info": {
   "codemirror_mode": {
    "name": "ipython",
    "version": 3
   },
   "file_extension": ".py",
   "mimetype": "text/x-python",
   "name": "python",
   "nbconvert_exporter": "python",
   "pygments_lexer": "ipython3",
   "version": "3.6.5"
  }
 },
 "nbformat": 4,
 "nbformat_minor": 4
}
